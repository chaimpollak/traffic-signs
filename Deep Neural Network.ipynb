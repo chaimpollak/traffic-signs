{
 "cells": [
  {
   "cell_type": "code",
   "execution_count": 1,
   "metadata": {
    "collapsed": true
   },
   "outputs": [],
   "source": [
    "import os.path\n",
    "has_train_data = os.path.isfile('train.p') \n",
    "if not has_train_data:\n",
    "    from zipfile import ZipFile\n",
    "    import urllib.request\n",
    "    from tempfile import mktemp\n",
    "\n",
    "    zipurl = 'https://d17h27t6h515a5.cloudfront.net/topher/2016/November/581faac4_traffic-signs-data/traffic-signs-data.zip'\n",
    "    from urllib.request import urlopen\n",
    "    from zipfile import ZipFile\n",
    "    zipresp = urlopen(zipurl)\n",
    "    tempzip = open(\"/tmp/tempfile.zip\", \"wb\")\n",
    "    tempzip.write(zipresp.read())\n",
    "    tempzip.close()\n",
    "    zf = ZipFile(\"/tmp/tempfile.zip\")\n",
    "    zf.extractall()\n",
    "    zf.close()"
   ]
  },
  {
   "cell_type": "code",
   "execution_count": 2,
   "metadata": {
    "collapsed": true
   },
   "outputs": [],
   "source": [
    "import pickle\n",
    "train_data = 'train.p'\n",
    "test_data = 'test.p'\n",
    "with open(train_data, 'rb') as f:\n",
    "    pickle_data = pickle.load(f)\n",
    "    train_features = pickle_data['features']\n",
    "    train_labels = pickle_data['labels']\n",
    "    del pickle_data  # Free up memory\n",
    "with open(test_data, 'rb') as f:\n",
    "    pickle_data = pickle.load(f)\n",
    "    test_features = pickle_data['features']\n",
    "    test_labels = pickle_data['labels']\n",
    "    del pickle_data  # Free up memory"
   ]
  },
  {
   "cell_type": "code",
   "execution_count": 3,
   "metadata": {
    "collapsed": true
   },
   "outputs": [],
   "source": [
    "import cv2\n",
    "import numpy as np\n",
    "gray_train_features = [cv2.cvtColor(image, cv2.COLOR_BGR2GRAY) for image in  train_features]\n",
    "gray_test_features = [cv2.cvtColor(image, cv2.COLOR_BGR2GRAY) for image in  test_features]\n"
   ]
  },
  {
   "cell_type": "code",
   "execution_count": 4,
   "metadata": {
    "collapsed": true
   },
   "outputs": [],
   "source": [
    "def normalize_greyscale(image, a=0.1, b=0.9,grey_min=0,grey_max=255):\n",
    "    return a + ( ( (image - grey_min)*(b - a) )/( grey_max - grey_min ) )\n",
    "train_features = [normalize_greyscale(image) for image in gray_train_features]\n",
    "test_features = [normalize_greyscale(image) for image in gray_test_features]"
   ]
  },
  {
   "cell_type": "code",
   "execution_count": 5,
   "metadata": {
    "collapsed": false
   },
   "outputs": [],
   "source": [
    "from sklearn.utils import shuffle\n",
    "train_features, train_labels = shuffle(train_features,train_labels, random_state=0)"
   ]
  },
  {
   "cell_type": "code",
   "execution_count": 6,
   "metadata": {
    "collapsed": true
   },
   "outputs": [],
   "source": [
    "from sklearn.preprocessing import LabelBinarizer\n",
    "encoder = LabelBinarizer()\n",
    "encoder.fit(train_labels)\n",
    "train_labels = encoder.transform(train_labels)\n",
    "test_labels = encoder.transform(test_labels)"
   ]
  },
  {
   "cell_type": "code",
   "execution_count": 7,
   "metadata": {
    "collapsed": true
   },
   "outputs": [],
   "source": [
    "# Change to float32, so it can be multiplied against the features in TensorFlow, which are float32\n",
    "train_labels = train_labels.astype(np.float32)\n",
    "test_labels = test_labels.astype(np.float32)"
   ]
  },
  {
   "cell_type": "code",
   "execution_count": 8,
   "metadata": {
    "collapsed": true
   },
   "outputs": [],
   "source": [
    "import tensorflow as tf\n",
    "\n",
    "# Parameters\n",
    "learning_rate = 0.01\n",
    "training_epochs = 100\n",
    "batch_size = 100\n",
    "display_step = 5\n",
    "\n",
    "\n",
    "n_input = 1024\n",
    "n_classes = 43\n",
    "\n",
    "\n",
    "n_hidden_layer = 512\n",
    "\n",
    "\n",
    "\n",
    "weights = {\n",
    "    'hidden_layer': tf.Variable(tf.random_normal([n_input, n_hidden_layer])),\n",
    "    'out': tf.Variable(tf.random_normal([n_hidden_layer, n_classes]))\n",
    "}\n",
    "biases = {\n",
    "    'hidden_layer': tf.Variable(tf.random_normal([n_hidden_layer])),\n",
    "    'out': tf.Variable(tf.random_normal([n_classes]))\n",
    "}\n",
    "\n",
    "# tf Graph input\n",
    "x = tf.placeholder(\"float\", [None, 32, 32])\n",
    "y = tf.placeholder(\"float\", [None, n_classes])\n",
    "\n",
    "x_flat = tf.reshape(x, [-1, n_input])\n",
    "\n",
    "\n",
    "# Hidden layer with RELU activation\n",
    "layer_1 = tf.add(tf.matmul(x_flat, weights['hidden_layer']), biases['hidden_layer'])\n",
    "\n",
    "relu_layer = tf.nn.relu(layer_1)\n",
    "# Output layer with linear activation\n",
    "logits = tf.matmul(relu_layer, weights['out']) + biases['out']\n",
    "\n",
    "# Define loss and optimizer\n",
    "cost = tf.reduce_mean(tf.nn.softmax_cross_entropy_with_logits(logits, y))\n",
    "optimizer = tf.train.GradientDescentOptimizer(learning_rate=learning_rate).minimize(cost)\n"
   ]
  },
  {
   "cell_type": "code",
   "execution_count": 9,
   "metadata": {
    "collapsed": false
   },
   "outputs": [
    {
     "name": "stdout",
     "output_type": "stream",
     "text": [
      "Epoch: 0005 cost= 13.373128435\n",
      "Epoch: 0010 cost= 7.121759761\n",
      "Epoch: 0015 cost= 4.879999573\n",
      "Epoch: 0020 cost= 3.705289567\n",
      "Epoch: 0025 cost= 2.976878666\n",
      "Epoch: 0030 cost= 2.475927327\n",
      "Epoch: 0035 cost= 2.112638167\n",
      "Epoch: 0040 cost= 1.839081452\n",
      "Epoch: 0045 cost= 1.618227084\n",
      "Epoch: 0050 cost= 1.441208685\n",
      "Epoch: 0055 cost= 1.298981960\n",
      "Epoch: 0060 cost= 1.174353900\n",
      "Epoch: 0065 cost= 1.071224629\n",
      "Epoch: 0070 cost= 0.981259308\n",
      "Epoch: 0075 cost= 0.903629955\n",
      "Epoch: 0080 cost= 0.834333138\n",
      "Epoch: 0085 cost= 0.774971789\n",
      "Epoch: 0090 cost= 0.720965229\n",
      "Epoch: 0095 cost= 0.673354762\n",
      "Epoch: 0100 cost= 0.630937833\n",
      "Optimization Finished!\n",
      "Accuracy on testing data: 0.729295\n",
      "Accuracy on training data: 0.902369\n"
     ]
    }
   ],
   "source": [
    "# Initializing the variables\n",
    "init = tf.initialize_all_variables()\n",
    "\n",
    "\n",
    "# Launch the graph\n",
    "with tf.Session() as sess:\n",
    "    sess.run(init)\n",
    "    # Training cycle\n",
    "    for epoch in range(training_epochs):\n",
    "        avg_cost = 0.\n",
    "        total_batch = int(len(train_features)/batch_size)\n",
    "        # Loop over all batches\n",
    "        for i in range(total_batch):\n",
    "            batch_start = i*batch_size\n",
    "            batch_features = train_features[batch_start:batch_start + batch_size]\n",
    "            batch_labels = train_labels[batch_start:batch_start + batch_size]\n",
    "            #sess.run(optimizer, feed_dict={x: batch_x, y: batch_y})\n",
    "            _, c = sess.run([optimizer, cost], feed_dict={x: batch_features, y: batch_labels})\n",
    "            # Compute average loss\n",
    "            avg_cost += c / total_batch\n",
    "            \n",
    "        # Display logs per epoch step\n",
    "        if (epoch+1) % display_step == 0:\n",
    "            print (\"Epoch:\", '%04d' % (epoch+1), \"cost=\", \"{:.9f}\".format(avg_cost))\n",
    "\n",
    "    print(\"Optimization Finished!\")\n",
    "\n",
    "    # Test model\n",
    "    correct_prediction = tf.equal(tf.argmax(logits, 1), tf.argmax(y, 1))\n",
    "    \n",
    "    accuracy = tf.reduce_mean(tf.cast(correct_prediction, tf.float32))\n",
    "    \n",
    "    print(\"Accuracy on testing data:\", accuracy.eval({x: test_features, y: test_labels}))\n",
    "    print(\"Accuracy on training data:\", accuracy.eval({x: train_features, y: train_labels}))"
   ]
  }
 ],
 "metadata": {
  "kernelspec": {
   "display_name": "Python 3",
   "language": "python",
   "name": "python3"
  },
  "language_info": {
   "codemirror_mode": {
    "name": "ipython",
    "version": 3
   },
   "file_extension": ".py",
   "mimetype": "text/x-python",
   "name": "python",
   "nbconvert_exporter": "python",
   "pygments_lexer": "ipython3",
   "version": "3.5.2"
  }
 },
 "nbformat": 4,
 "nbformat_minor": 1
}
