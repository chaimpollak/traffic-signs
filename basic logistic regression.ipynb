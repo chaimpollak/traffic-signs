{
 "cells": [
  {
   "cell_type": "code",
   "execution_count": 12,
   "metadata": {
    "collapsed": true
   },
   "outputs": [],
   "source": [
    "import os.path\n",
    "has_train_data = os.path.isfile('train.p') \n",
    "if not has_train_data:\n",
    "    from zipfile import ZipFile\n",
    "    import urllib.request\n",
    "    from tempfile import mktemp\n",
    "\n",
    "    zipurl = 'https://d17h27t6h515a5.cloudfront.net/topher/2016/November/581faac4_traffic-signs-data/traffic-signs-data.zip'\n",
    "    from urllib.request import urlopen\n",
    "    from zipfile import ZipFile\n",
    "    zipresp = urlopen(zipurl)\n",
    "    tempzip = open(\"/tmp/tempfile.zip\", \"wb\")\n",
    "    tempzip.write(zipresp.read())\n",
    "    tempzip.close()\n",
    "    zf = ZipFile(\"/tmp/tempfile.zip\")\n",
    "    zf.extractall()\n",
    "    zf.close()"
   ]
  },
  {
   "cell_type": "code",
   "execution_count": 1,
   "metadata": {
    "collapsed": true
   },
   "outputs": [],
   "source": [
    "import pickle\n",
    "train_data = 'train.p'\n",
    "test_data = 'test.p'\n",
    "with open(train_data, 'rb') as f:\n",
    "    pickle_data = pickle.load(f)\n",
    "    train_features = pickle_data['features']\n",
    "    train_labels = pickle_data['labels']\n",
    "    del pickle_data  # Free up memory\n",
    "with open(test_data, 'rb') as f:\n",
    "    pickle_data = pickle.load(f)\n",
    "    test_features = pickle_data['features']\n",
    "    test_labels = pickle_data['labels']\n",
    "    del pickle_data  # Free up memory\n"
   ]
  },
  {
   "cell_type": "code",
   "execution_count": 2,
   "metadata": {
    "collapsed": true
   },
   "outputs": [],
   "source": [
    "import cv2\n",
    "import numpy as np\n",
    "gray_train_features = [np.array(cv2.cvtColor(image, cv2.COLOR_BGR2GRAY),dtype=np.float32).flatten() for image in  train_features]\n",
    "gray_test_features = [np.array(cv2.cvtColor(image, cv2.COLOR_BGR2GRAY),dtype=np.float32).flatten() for image in  test_features]\n"
   ]
  },
  {
   "cell_type": "code",
   "execution_count": 3,
   "metadata": {
    "collapsed": true
   },
   "outputs": [],
   "source": [
    "def normalize_greyscale(image, a=0.1, b=0.9,grey_min=0,grey_max=255):\n",
    "    return a + ( ( (image - grey_min)*(b - a) )/( grey_max - grey_min ) )\n",
    "train_features = [normalize_greyscale(image) for image in gray_train_features]\n",
    "test_features = [normalize_greyscale(image) for image in gray_test_features]"
   ]
  },
  {
   "cell_type": "code",
   "execution_count": 4,
   "metadata": {
    "collapsed": true
   },
   "outputs": [],
   "source": [
    "from sklearn.preprocessing import LabelBinarizer\n",
    "encoder = LabelBinarizer()\n",
    "encoder.fit(train_labels)\n",
    "train_labels = encoder.transform(train_labels)\n",
    "test_labels = encoder.transform(test_labels)"
   ]
  },
  {
   "cell_type": "code",
   "execution_count": 5,
   "metadata": {
    "collapsed": true
   },
   "outputs": [],
   "source": [
    "# Change to float32, so it can be multiplied against the features in TensorFlow, which are float32\n",
    "train_labels = train_labels.astype(np.float32)\n",
    "test_labels = test_labels.astype(np.float32)"
   ]
  },
  {
   "cell_type": "code",
   "execution_count": 6,
   "metadata": {
    "collapsed": true
   },
   "outputs": [],
   "source": [
    "import tensorflow as tf\n",
    "\n",
    "# Parameters\n",
    "learning_rate = 0.01\n",
    "training_epochs = 100\n",
    "batch_size = 50\n",
    "display_step = 1\n",
    "\n",
    "\n",
    "\n",
    "# tf Graph Input\n",
    "x = tf.placeholder(tf.float32, [None, 1024]) # image of shape 32*32=1024\n",
    "y = tf.placeholder(tf.float32, [None, 43]) # 43 classes\n",
    "\n",
    "# Set model weights\n",
    "W = tf.Variable(tf.zeros([1024, 43]))\n",
    "b = tf.Variable(tf.zeros([43]))\n",
    "\n",
    "pred = tf.nn.softmax(tf.matmul(x, W) + b) # Softmax\n",
    "\n",
    "# Minimize error using cross entropy\n",
    "cost = tf.reduce_mean(-tf.reduce_sum(y*tf.log(pred), reduction_indices=1))\n",
    "# Gradient Descent\n",
    "optimizer = tf.train.GradientDescentOptimizer(learning_rate).minimize(cost)\n",
    "\n",
    "# Initializing the variables\n",
    "init = tf.initialize_all_variables()\n"
   ]
  },
  {
   "cell_type": "code",
   "execution_count": 7,
   "metadata": {
    "collapsed": false
   },
   "outputs": [
    {
     "name": "stdout",
     "output_type": "stream",
     "text": [
      "Epoch: 0001 cost= 1.398605990\n",
      "Epoch: 0002 cost= 1.400240887\n",
      "Epoch: 0003 cost= 1.369988918\n",
      "Epoch: 0004 cost= 1.339228830\n",
      "Epoch: 0005 cost= 1.311230208\n",
      "Epoch: 0006 cost= 1.285559294\n",
      "Epoch: 0007 cost= 1.261802384\n",
      "Epoch: 0008 cost= 1.239682339\n",
      "Epoch: 0009 cost= 1.218996644\n",
      "Epoch: 0010 cost= 1.199579931\n",
      "Epoch: 0011 cost= 1.181292079\n",
      "Epoch: 0012 cost= 1.164015990\n",
      "Epoch: 0013 cost= 1.147654324\n",
      "Epoch: 0014 cost= 1.132124792\n",
      "Epoch: 0015 cost= 1.117355806\n",
      "Epoch: 0016 cost= 1.103283952\n",
      "Epoch: 0017 cost= 1.089853154\n",
      "Epoch: 0018 cost= 1.077014492\n",
      "Epoch: 0019 cost= 1.064726006\n",
      "Epoch: 0020 cost= 1.052952049\n",
      "Epoch: 0021 cost= 1.041662510\n",
      "Epoch: 0022 cost= 1.030831609\n",
      "Epoch: 0023 cost= 1.020436681\n",
      "Epoch: 0024 cost= 1.010456525\n",
      "Epoch: 0025 cost= 1.000870314\n",
      "Epoch: 0026 cost= 0.991656301\n",
      "Epoch: 0027 cost= 0.982792420\n",
      "Epoch: 0028 cost= 0.974256381\n",
      "Epoch: 0029 cost= 0.966026880\n",
      "Epoch: 0030 cost= 0.958084042\n",
      "Epoch: 0031 cost= 0.950409728\n",
      "Epoch: 0032 cost= 0.942987450\n",
      "Epoch: 0033 cost= 0.935802163\n",
      "Epoch: 0034 cost= 0.928840258\n",
      "Epoch: 0035 cost= 0.922089215\n",
      "Epoch: 0036 cost= 0.915537538\n",
      "Epoch: 0037 cost= 0.909174773\n",
      "Epoch: 0038 cost= 0.902991334\n",
      "Epoch: 0039 cost= 0.896978489\n",
      "Epoch: 0040 cost= 0.891128146\n",
      "Epoch: 0041 cost= 0.885433012\n",
      "Epoch: 0042 cost= 0.879886353\n",
      "Epoch: 0043 cost= 0.874481945\n",
      "Epoch: 0044 cost= 0.869214068\n",
      "Epoch: 0045 cost= 0.864077420\n",
      "Epoch: 0046 cost= 0.859067089\n",
      "Epoch: 0047 cost= 0.854178496\n",
      "Epoch: 0048 cost= 0.849407372\n",
      "Epoch: 0049 cost= 0.844749586\n",
      "Epoch: 0050 cost= 0.840201343\n",
      "Epoch: 0051 cost= 0.835758915\n",
      "Epoch: 0052 cost= 0.831418793\n",
      "Epoch: 0053 cost= 0.827177586\n",
      "Epoch: 0054 cost= 0.823032044\n",
      "Epoch: 0055 cost= 0.818978987\n",
      "Epoch: 0056 cost= 0.815015267\n",
      "Epoch: 0057 cost= 0.811138069\n",
      "Epoch: 0058 cost= 0.807344430\n",
      "Epoch: 0059 cost= 0.803631608\n",
      "Epoch: 0060 cost= 0.799996877\n",
      "Epoch: 0061 cost= 0.796437659\n",
      "Epoch: 0062 cost= 0.792951482\n",
      "Epoch: 0063 cost= 0.789535886\n",
      "Epoch: 0064 cost= 0.786188550\n",
      "Epoch: 0065 cost= 0.782907329\n",
      "Epoch: 0066 cost= 0.779689930\n",
      "Epoch: 0067 cost= 0.776534348\n",
      "Epoch: 0068 cost= 0.773438599\n",
      "Epoch: 0069 cost= 0.770400715\n",
      "Epoch: 0070 cost= 0.767418865\n",
      "Epoch: 0071 cost= 0.764491277\n",
      "Epoch: 0072 cost= 0.761616180\n",
      "Epoch: 0073 cost= 0.758791974\n",
      "Epoch: 0074 cost= 0.756017046\n",
      "Epoch: 0075 cost= 0.753289887\n",
      "Epoch: 0076 cost= 0.750609001\n",
      "Epoch: 0077 cost= 0.747972975\n",
      "Epoch: 0078 cost= 0.745380479\n",
      "Epoch: 0079 cost= 0.742830164\n",
      "Epoch: 0080 cost= 0.740320855\n",
      "Epoch: 0081 cost= 0.737851210\n",
      "Epoch: 0082 cost= 0.735420132\n",
      "Epoch: 0083 cost= 0.733026533\n",
      "Epoch: 0084 cost= 0.730669321\n",
      "Epoch: 0085 cost= 0.728347434\n",
      "Epoch: 0086 cost= 0.726059919\n",
      "Epoch: 0087 cost= 0.723805780\n",
      "Epoch: 0088 cost= 0.721584148\n",
      "Epoch: 0089 cost= 0.719394091\n",
      "Epoch: 0090 cost= 0.717234790\n",
      "Epoch: 0091 cost= 0.715105424\n",
      "Epoch: 0092 cost= 0.713005109\n",
      "Epoch: 0093 cost= 0.710933209\n",
      "Epoch: 0094 cost= 0.708888982\n",
      "Epoch: 0095 cost= 0.706871659\n",
      "Epoch: 0096 cost= 0.704880538\n",
      "Epoch: 0097 cost= 0.702915043\n",
      "Epoch: 0098 cost= 0.700974441\n",
      "Epoch: 0099 cost= 0.699058202\n",
      "Epoch: 0100 cost= 0.697165750\n",
      "Optimization Finished!\n",
      "Accuracy: 0.277989\n"
     ]
    }
   ],
   "source": [
    "# Launch the graph\n",
    "with tf.Session() as sess:\n",
    "    sess.run(init)\n",
    "\n",
    "    # Training cycle\n",
    "    for epoch in range(training_epochs):\n",
    "        avg_cost = 0.\n",
    "        total_batch = int(len(train_features)/batch_size)\n",
    "        # Loop over all batches\n",
    "        for i in range(total_batch):\n",
    "            batch_start = i*batch_size\n",
    "            batch_features = train_features[batch_start:batch_start + batch_size]\n",
    "            batch_labels = train_labels[batch_start:batch_start + batch_size]\n",
    "            \n",
    "            _, c = sess.run([optimizer, cost], feed_dict={x: batch_features, y: batch_labels})\n",
    "            \n",
    "            # Compute average loss\n",
    "            avg_cost += c / total_batch\n",
    "            \n",
    "        # Display logs per epoch step\n",
    "        if (epoch+1) % display_step == 0:\n",
    "            print (\"Epoch:\", '%04d' % (epoch+1), \"cost=\", \"{:.9f}\".format(avg_cost))\n",
    "\n",
    "    print(\"Optimization Finished!\")\n",
    "\n",
    "    # Test model\n",
    "    correct_prediction = tf.equal(tf.argmax(pred, 1), tf.argmax(y, 1))\n",
    "    # Calculate accuracy for 3000 examples\n",
    "    accuracy = tf.reduce_mean(tf.cast(correct_prediction, tf.float32))\n",
    "    print(\"Accuracy:\", accuracy.eval({x: test_features, y: test_labels}))"
   ]
  }
 ],
 "metadata": {
  "kernelspec": {
   "display_name": "Python 3",
   "language": "python",
   "name": "python3"
  },
  "language_info": {
   "codemirror_mode": {
    "name": "ipython",
    "version": 3
   },
   "file_extension": ".py",
   "mimetype": "text/x-python",
   "name": "python",
   "nbconvert_exporter": "python",
   "pygments_lexer": "ipython3",
   "version": "3.5.2"
  }
 },
 "nbformat": 4,
 "nbformat_minor": 1
}
