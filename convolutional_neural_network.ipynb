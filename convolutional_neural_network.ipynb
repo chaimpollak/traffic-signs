{
 "cells": [
  {
   "cell_type": "code",
   "execution_count": 1,
   "metadata": {
    "collapsed": true
   },
   "outputs": [],
   "source": [
    "import os.path\n",
    "has_train_data = os.path.isfile('train.p') \n",
    "if not has_train_data:\n",
    "    from zipfile import ZipFile\n",
    "    import urllib.request\n",
    "    from tempfile import mktemp\n",
    "\n",
    "    zipurl = 'https://d17h27t6h515a5.cloudfront.net/topher/2016/November/581faac4_traffic-signs-data/traffic-signs-data.zip'\n",
    "    from urllib.request import urlopen\n",
    "    from zipfile import ZipFile\n",
    "    zipresp = urlopen(zipurl)\n",
    "    tempzip = open(\"/tmp/tempfile.zip\", \"wb\")\n",
    "    tempzip.write(zipresp.read())\n",
    "    tempzip.close()\n",
    "    zf = ZipFile(\"/tmp/tempfile.zip\")\n",
    "    zf.extractall()\n",
    "    zf.close()"
   ]
  },
  {
   "cell_type": "code",
   "execution_count": 2,
   "metadata": {
    "collapsed": true
   },
   "outputs": [],
   "source": [
    "import pickle\n",
    "train_data = 'train.p'\n",
    "test_data = 'test.p'\n",
    "with open(train_data, 'rb') as f:\n",
    "    pickle_data = pickle.load(f)\n",
    "    train_features = pickle_data['features']\n",
    "    train_labels = pickle_data['labels']\n",
    "    del pickle_data  # Free up memory\n",
    "with open(test_data, 'rb') as f:\n",
    "    pickle_data = pickle.load(f)\n",
    "    test_features = pickle_data['features']\n",
    "    test_labels = pickle_data['labels']\n",
    "    del pickle_data  # Free up memory"
   ]
  },
  {
   "cell_type": "code",
   "execution_count": 3,
   "metadata": {
    "collapsed": true
   },
   "outputs": [],
   "source": [
    "def normalize_greyscale(image, a=0.1, b=0.9,grey_min=0,grey_max=255):\n",
    "    return a + ( ( (image - grey_min)*(b - a) )/( grey_max - grey_min ) )\n",
    "train_features = [normalize_greyscale(image) for image in train_features]\n",
    "test_features = [normalize_greyscale(image) for image in test_features]"
   ]
  },
  {
   "cell_type": "code",
   "execution_count": 4,
   "metadata": {
    "collapsed": true
   },
   "outputs": [],
   "source": [
    "from sklearn.utils import shuffle\n",
    "train_features, train_labels = shuffle(train_features,train_labels, random_state=123)"
   ]
  },
  {
   "cell_type": "code",
   "execution_count": 5,
   "metadata": {
    "collapsed": false
   },
   "outputs": [],
   "source": [
    "import numpy as np\n",
    "from sklearn.preprocessing import LabelBinarizer\n",
    "encoder = LabelBinarizer()\n",
    "encoder.fit(train_labels)\n",
    "train_labels = encoder.transform(train_labels)\n",
    "test_labels = encoder.transform(test_labels)\n",
    "# Change to float32, so it can be multiplied against the features in TensorFlow, which are float32\n",
    "train_labels = train_labels.astype(np.float32)\n",
    "test_labels = test_labels.astype(np.float32)"
   ]
  },
  {
   "cell_type": "code",
   "execution_count": 10,
   "metadata": {
    "collapsed": false
   },
   "outputs": [],
   "source": [
    "import tensorflow as tf\n",
    "\n",
    "# Parameters\n",
    "learning_rate = 0.01\n",
    "training_epochs = 25\n",
    "batch_size = 500\n",
    "display_step = 1\n",
    "\n",
    "# Output depth\n",
    "k_output = 64\n",
    "\n",
    "# Image Properties\n",
    "image_width = 32\n",
    "image_height = 32\n",
    "color_channels = 3\n",
    "\n",
    "# Convolution filter\n",
    "filter_size_width = 3\n",
    "filter_size_height = 3\n",
    "\n",
    "n_classes = 43\n",
    "n_hidden_layer = 2048\n",
    "\n",
    "weights = {\n",
    "    'cnn_in': tf.Variable(tf.truncated_normal([filter_size_width, filter_size_height, color_channels, k_output])),\n",
    "    'cnn_out': tf.Variable(tf.random_normal([8*8*64, n_hidden_layer])),\n",
    "    'out': tf.Variable(tf.random_normal([n_hidden_layer, n_classes]))\n",
    "}\n",
    "\n",
    "biases = {\n",
    "    'cnn_in': tf.Variable(tf.zeros(k_output)),\n",
    "    'cnn_out': tf.Variable(tf.random_normal([n_hidden_layer])),\n",
    "    'out': tf.Variable(tf.random_normal([n_classes]))\n",
    "}\n",
    "# Dropout\n",
    "keep_prob = tf.placeholder(tf.float32)\n",
    "\n",
    "# Image input\n",
    "x = tf.placeholder(tf.float32,shape=[None, image_width, image_height, color_channels])\n",
    "y = tf.placeholder(tf.float32, [None, 43]) # 43 classes\n",
    "\n",
    "# Apply Convolution\n",
    "conv_layer = tf.nn.conv2d(x, weights['cnn_in'], strides=[1, 2, 2, 1], padding='SAME')\n",
    "conv_layer = tf.nn.bias_add(conv_layer, biases['cnn_in'])\n",
    "\n",
    "# Apply activation function\n",
    "conv_layer = tf.nn.relu(conv_layer)\n",
    "\n",
    "# Apply Max Pooling\n",
    "conv_layer = tf.nn.max_pool(conv_layer, ksize=[1, 2, 2, 1],strides=[1, 2, 2, 1],padding='SAME')\n",
    "\n",
    "##start neural network using the convnet output\n",
    "conv_layer = tf.reshape(conv_layer, [-1, weights['cnn_out'].get_shape().as_list()[0]])\n",
    "conv_layer = tf.add(tf.matmul(conv_layer, weights['cnn_out']), biases['cnn_out'])\n",
    "conv_layer = tf.nn.relu(conv_layer)\n",
    "\n",
    "# Apply Dropout\n",
    "conv_layer = tf.nn.dropout(conv_layer, keep_prob)\n",
    "\n",
    "# Output, class prediction\n",
    "logits = tf.add(tf.matmul(conv_layer, weights['out']), biases['out'])\n",
    "\n",
    "\n",
    "# Define loss and optimizer\n",
    "cost = tf.reduce_mean(tf.nn.softmax_cross_entropy_with_logits(logits, y))\n",
    "optimizer = tf.train.AdamOptimizer(learning_rate=learning_rate).minimize(cost)\n",
    "\n",
    "# Evaluate model\n",
    "correct_pred = tf.equal(tf.argmax(logits, 1), tf.argmax(y, 1))\n",
    "accuracy = tf.reduce_mean(tf.cast(correct_pred, tf.float32))\n",
    "\n",
    "# Initializing the variables\n",
    "init = tf.initialize_all_variables()\n"
   ]
  },
  {
   "cell_type": "code",
   "execution_count": 11,
   "metadata": {
    "collapsed": false
   },
   "outputs": [
    {
     "name": "stdout",
     "output_type": "stream",
     "text": [
      "Epoch: 0001 cost= 1410.625538655\n",
      "Epoch: 0002 cost= 29.608418868\n",
      "Epoch: 0003 cost= 7.733076817\n",
      "Epoch: 0004 cost= 3.733078532\n",
      "Epoch: 0005 cost= 3.119309820\n",
      "Epoch: 0006 cost= 2.824256225\n",
      "Epoch: 0007 cost= 2.625070144\n",
      "Epoch: 0008 cost= 2.424655621\n",
      "Epoch: 0009 cost= 2.217741783\n",
      "Epoch: 0010 cost= 2.058338341\n",
      "Epoch: 0011 cost= 1.961409971\n",
      "Epoch: 0012 cost= 1.842971754\n",
      "Epoch: 0013 cost= 1.751816050\n",
      "Epoch: 0014 cost= 1.671833054\n",
      "Epoch: 0015 cost= 1.588987542\n",
      "Epoch: 0016 cost= 1.532654154\n",
      "Epoch: 0017 cost= 1.481198630\n",
      "Epoch: 0018 cost= 1.410461531\n",
      "Epoch: 0019 cost= 1.354083613\n",
      "Epoch: 0020 cost= 1.322901697\n",
      "Epoch: 0021 cost= 1.265570437\n",
      "Epoch: 0022 cost= 1.188700920\n",
      "Epoch: 0023 cost= 1.143654736\n",
      "Epoch: 0024 cost= 1.121719535\n",
      "Epoch: 0025 cost= 1.073348103\n",
      "Optimization Finished!\n",
      "Accuracy on testing data: 0.634046\n"
     ]
    }
   ],
   "source": [
    "# Launch the graph\n",
    "with tf.Session() as sess:\n",
    "    sess.run(init)\n",
    "    \n",
    "    for epoch in range(training_epochs):\n",
    "        avg_cost = 0.\n",
    "        total_batch = int(len(train_features)/batch_size)\n",
    "        # Loop over all batches\n",
    "        for i in range(total_batch):\n",
    "            batch_start = i*batch_size\n",
    "            batch_features = train_features[batch_start:batch_start + batch_size]\n",
    "            batch_labels = train_labels[batch_start:batch_start + batch_size]\n",
    "            _, c = sess.run([optimizer, cost], feed_dict={x: batch_features, y: batch_labels,keep_prob:0.75})\n",
    "            # Compute average loss\n",
    "            avg_cost += c / total_batch\n",
    "            \n",
    "        # Display logs per epoch step\n",
    "        if (epoch+1) % display_step == 0:\n",
    "            print (\"Epoch:\", '%04d' % (epoch+1), \"cost=\", \"{:.9f}\".format(avg_cost))\n",
    "\n",
    "    print(\"Optimization Finished!\")\n",
    "    print(\"Accuracy on testing data:\", accuracy.eval({x: test_features, y: test_labels,keep_prob:1}))\n",
    "    #print(\"Accuracy on training data:\", accuracy.eval({x: train_features, y: train_labels,keep_prob:1}))"
   ]
  },
  {
   "cell_type": "code",
   "execution_count": null,
   "metadata": {
    "collapsed": true
   },
   "outputs": [],
   "source": []
  }
 ],
 "metadata": {
  "kernelspec": {
   "display_name": "Python 3",
   "language": "python",
   "name": "python3"
  },
  "language_info": {
   "codemirror_mode": {
    "name": "ipython",
    "version": 3
   },
   "file_extension": ".py",
   "mimetype": "text/x-python",
   "name": "python",
   "nbconvert_exporter": "python",
   "pygments_lexer": "ipython3",
   "version": "3.5.2"
  }
 },
 "nbformat": 4,
 "nbformat_minor": 1
}
